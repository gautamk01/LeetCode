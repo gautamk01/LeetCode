{
 "cells": [
  {
   "cell_type": "code",
   "execution_count": 2,
   "id": "ba2b3f22",
   "metadata": {},
   "outputs": [],
   "source": [
    "A = [-4,3,1,0,2,5,10,8,12,9]\n",
    "\n",
    "import heapq\n",
    "heapq.heapify(A)"
   ]
  },
  {
   "cell_type": "code",
   "execution_count": 3,
   "id": "45ae67e9",
   "metadata": {},
   "outputs": [
    {
     "data": {
      "text/plain": [
       "[-4, 0, 1, 3, 2, 5, 10, 8, 12, 9]"
      ]
     },
     "execution_count": 3,
     "metadata": {},
     "output_type": "execute_result"
    }
   ],
   "source": [
    "A"
   ]
  },
  {
   "cell_type": "code",
   "execution_count": 6,
   "id": "b97ea02c",
   "metadata": {},
   "outputs": [
    {
     "data": {
      "text/plain": [
       "[-4, 0, 1, 3, 2, 4, 10, 8, 12, 9, 4, 5]"
      ]
     },
     "execution_count": 6,
     "metadata": {},
     "output_type": "execute_result"
    }
   ],
   "source": [
    "#Heap Push (insert element)\n",
    "#Time : 0(log n )\n",
    "\n",
    "heapq.heappush(A,4)\n",
    "A"
   ]
  },
  {
   "cell_type": "markdown",
   "id": "bbd29f7c",
   "metadata": {},
   "source": [
    "         -4\n",
    "        /   \\\n",
    "       0     1 \n",
    "      / \\    /  \\\n",
    "     3   2  5   10\n",
    "    / \\  /\\\n",
    "    8 12 9 4"
   ]
  },
  {
   "cell_type": "code",
   "execution_count": 7,
   "id": "97398f4a",
   "metadata": {},
   "outputs": [
    {
     "data": {
      "text/plain": [
       "([0, 2, 1, 3, 4, 4, 10, 8, 12, 9, 5], -4)"
      ]
     },
     "execution_count": 7,
     "metadata": {},
     "output_type": "execute_result"
    }
   ],
   "source": [
    "#Heap pop (Extract Min)\n",
    "#Time : 0(log n)\n",
    "\n",
    "mini = heapq.heappop(A)\n",
    "A,mini"
   ]
  },
  {
   "cell_type": "code",
   "execution_count": 9,
   "id": "0a076e68",
   "metadata": {},
   "outputs": [
    {
     "data": {
      "text/plain": [
       "[1, 2, 3, 5, 7, 12, 12, 34, 42, 65]"
      ]
     },
     "execution_count": 9,
     "metadata": {},
     "output_type": "execute_result"
    }
   ],
   "source": [
    "#Heap Sort \n",
    "#Time : n logn  space n \n",
    "def heapSort(arr):\n",
    "    heapq.heapify(arr)\n",
    "    n = len(arr)\n",
    "    new_list = [0] * n\n",
    "    for i in range(n):\n",
    "        minn = heapq.heappop(arr)\n",
    "        new_list[i] = minn\n",
    "    return new_list\n",
    "\n",
    "heapSort([12,42,65,7,34,12,1,2,3,5])"
   ]
  },
  {
   "cell_type": "code",
   "execution_count": 10,
   "id": "4bfa3be4",
   "metadata": {},
   "outputs": [
    {
     "data": {
      "text/plain": [
       "[1, 2, 4, 3, 4, 99, 10, 8, 12, 9, 5]"
      ]
     },
     "execution_count": 10,
     "metadata": {},
     "output_type": "execute_result"
    }
   ],
   "source": [
    "#Heap push pop : Time o(log n)\n",
    "heapq.heappushpop(A,99)\n",
    "A"
   ]
  },
  {
   "cell_type": "code",
   "execution_count": 17,
   "id": "69bc979b",
   "metadata": {},
   "outputs": [
    {
     "data": {
      "text/plain": [
       "[-12, -9, -10, -8, -2, -5, -1, -3, 0, 4]"
      ]
     },
     "execution_count": 17,
     "metadata": {},
     "output_type": "execute_result"
    }
   ],
   "source": [
    "#Max Heap \n",
    "B = [-4, 3, 1,0,2,5,10,8,12,9]\n",
    "n = len(B)\n",
    "for i in range(n):\n",
    "    B[i] = -B[i]\n",
    "heapq.heapify(B)\n",
    "B"
   ]
  },
  {
   "cell_type": "code",
   "execution_count": 18,
   "id": "ea74d718",
   "metadata": {},
   "outputs": [
    {
     "data": {
      "text/plain": [
       "[-12, -9, -10, -8, -7, -5, -1, -3, 0, 4, -2]"
      ]
     },
     "execution_count": 18,
     "metadata": {},
     "output_type": "execute_result"
    }
   ],
   "source": [
    "heapq.heappush(B,-7) #this insert positive 7 \n",
    "B"
   ]
  },
  {
   "cell_type": "code",
   "execution_count": 19,
   "id": "660fd3b4",
   "metadata": {},
   "outputs": [
    {
     "data": {
      "text/plain": [
       "1"
      ]
     },
     "execution_count": 19,
     "metadata": {},
     "output_type": "execute_result"
    }
   ],
   "source": [
    "#peek min \n",
    "minn = A[0]\n",
    "minn"
   ]
  },
  {
   "cell_type": "code",
   "execution_count": null,
   "id": "78fbed4c",
   "metadata": {},
   "outputs": [],
   "source": []
  }
 ],
 "metadata": {
  "kernelspec": {
   "display_name": "base",
   "language": "python",
   "name": "python3"
  },
  "language_info": {
   "codemirror_mode": {
    "name": "ipython",
    "version": 3
   },
   "file_extension": ".py",
   "mimetype": "text/x-python",
   "name": "python",
   "nbconvert_exporter": "python",
   "pygments_lexer": "ipython3",
   "version": "3.12.4"
  }
 },
 "nbformat": 4,
 "nbformat_minor": 5
}
